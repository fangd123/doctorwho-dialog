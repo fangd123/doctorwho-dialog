{
 "cells": [
  {
   "cell_type": "code",
   "execution_count": 1,
   "metadata": {},
   "outputs": [],
   "source": [
    "import pandas as pd\n",
    "import json\n",
    "import pickle\n",
    "from tqdm import tqdm\n",
    "from pathlib import Path\n",
    "import matplotlib "
   ]
  },
  {
   "cell_type": "code",
   "execution_count": 2,
   "metadata": {},
   "outputs": [
    {
     "data": {
      "text/plain": [
       "[PosixPath('concat_text/The Doctor Who Transcripts - The Battle of Demons Run -\\r\\nTwo Days Later.txt'),\n",
       " PosixPath('concat_text/The Doctor Who Transcripts - The Masque of Mandragora.txt'),\n",
       " PosixPath('concat_text/The Doctor Who Transcripts - The Smugglers.txt'),\n",
       " PosixPath('concat_text/The Doctor Who Transcripts - Day of the Daleks.txt'),\n",
       " PosixPath('concat_text/The Doctor Who Transcripts - The Christmas Invasion.txt'),\n",
       " PosixPath('concat_text/The Doctor Who Transcripts - Time and the Rani.txt'),\n",
       " PosixPath('concat_text/The Doctor Who Transcripts - The Ice Warriors.txt'),\n",
       " PosixPath('concat_text/The Doctor Who Transcripts - Doctor Who and The Silurians.txt'),\n",
       " PosixPath('concat_text/The Doctor Who Transcripts - Extremis.txt'),\n",
       " PosixPath('concat_text/The Doctor Who Transcripts - The Robots of Death.txt'),\n",
       " PosixPath('concat_text/The Doctor Who Transcripts - Hide.txt'),\n",
       " PosixPath('concat_text/The Doctor Who Transcripts - The Creature from the Pit.txt'),\n",
       " PosixPath('concat_text/The Doctor Who Transcripts - Army of Ghosts.txt'),\n",
       " PosixPath('concat_text/The Doctor Who Transcripts - Night Terrors.txt'),\n",
       " PosixPath('concat_text/The Doctor Who Transcripts - Resurrection of the Daleks.txt'),\n",
       " PosixPath('concat_text/The Doctor Who Transcripts - The Mind of Evil.txt'),\n",
       " PosixPath('concat_text/The Doctor Who Transcripts - The Girl in the Fireplace.txt'),\n",
       " PosixPath('concat_text/The Doctor Who Transcripts - The Invasion of Time.txt'),\n",
       " PosixPath('concat_text/The Doctor Who Transcripts - Vengeance on Varos.txt'),\n",
       " PosixPath('concat_text/The Doctor Who Transcripts The War Machines.txt'),\n",
       " PosixPath('concat_text/The Doctor Who Transcripts - The Two Doctors.txt'),\n",
       " PosixPath(\"concat_text/The Doctor Who Transcripts - The Doctor's Wife.txt\"),\n",
       " PosixPath('concat_text/The Doctor Who Transcripts - The Armageddon Factor.txt'),\n",
       " PosixPath('concat_text/The Doctor Who Transcripts - The Crusade.txt'),\n",
       " PosixPath('concat_text/The Doctor Who Transcripts - Inferno.txt'),\n",
       " PosixPath('concat_text/The Doctor Who Transcripts - Journey to the Centre of\\r\\nthe Tardis.txt'),\n",
       " PosixPath('concat_text/The Doctor Who Transcripts - Deep Breath.txt'),\n",
       " PosixPath('concat_text/The Doctor Who Transcripts - Fury From The Deep.txt'),\n",
       " PosixPath('concat_text/The Doctor Who Transcripts - Vincent and the Doctor.txt'),\n",
       " PosixPath(\"concat_text/The Doctor Who Transcripts - The Idiot's Lantern.txt\"),\n",
       " PosixPath('concat_text/The Doctor Who Transcripts - World War Three.txt'),\n",
       " PosixPath('concat_text/The Doctor Who Transcripts - The Macra Terror.txt'),\n",
       " PosixPath('concat_text/The Doctor Who Transcripts - The Enemy of the World.txt'),\n",
       " PosixPath('concat_text/The Doctor Who Transcripts - Logopolis.txt'),\n",
       " PosixPath('concat_text/The Doctor Who Transcripts - The Impossible Astronaut.txt'),\n",
       " PosixPath('concat_text/The Doctor Who Transcripts - The Woman Who Fell To Earth.txt'),\n",
       " PosixPath('concat_text/The Doctor Who Transcripts - Battlefield.txt'),\n",
       " PosixPath('concat_text/The Doctor Who Transcripts - The Sontaran Stratagem.txt'),\n",
       " PosixPath('concat_text/The Doctor Who Transcripts - The Ark.txt'),\n",
       " PosixPath('concat_text/The Doctor Who Transcripts - The Ambassadors of Death.txt'),\n",
       " PosixPath('concat_text/The Doctor Who Transcripts - The Tenth Planet.txt'),\n",
       " PosixPath('concat_text/The Doctor Who Transcripts - The Tomb of the Cybermen.txt'),\n",
       " PosixPath('concat_text/The Doctor Who Transcripts - The Deadly Assassin.txt'),\n",
       " PosixPath('concat_text/The Doctor Who Transcripts - Planet of Fire.txt'),\n",
       " PosixPath('concat_text/The Doctor Who Transcripts - The Almost People.txt'),\n",
       " PosixPath('concat_text/The Doctor Who Transcripts - The End of the World.txt'),\n",
       " PosixPath('concat_text/The Doctor Who Transcripts - The Celestial Toymaker.txt'),\n",
       " PosixPath('concat_text/The Doctor Who Transcripts - The Curse of the Black Spot.txt'),\n",
       " PosixPath('concat_text/The Doctor Who Transcripts - Aliens of London.txt'),\n",
       " PosixPath('concat_text/The Doctor Who Transcripts - The Awakening.txt'),\n",
       " PosixPath('concat_text/The Doctor Who Transcripts - The Krotons.txt'),\n",
       " PosixPath('concat_text/The Doctor Who Transcripts - The Daemons.txt'),\n",
       " PosixPath('concat_text/The Doctor Who Transcripts - The Evil of the Daleks.txt'),\n",
       " PosixPath('concat_text/The Doctor Who Transcripts - School Reunion.txt'),\n",
       " PosixPath('concat_text/The Doctor Who Transcripts - The Keys Of Marinus.txt'),\n",
       " PosixPath('concat_text/The Doctor Who Transcripts - Cold War.txt'),\n",
       " PosixPath('concat_text/The Doctor Who Transcripts - The Android Invasion.txt'),\n",
       " PosixPath('concat_text/The Doctor Who Transcripts - It Takes You Away.txt'),\n",
       " PosixPath('concat_text/The Doctor Who Transcripts - Underworld.txt'),\n",
       " PosixPath('concat_text/The Doctor Who Transcripts - Robot of Sherwood.txt'),\n",
       " PosixPath('concat_text/The Doctor Who Transcripts - Colony In Space.txt'),\n",
       " PosixPath('concat_text/The Doctor Who Transcripts - The Face of Evil.txt'),\n",
       " PosixPath('concat_text/The Doctor Who Transcripts - The Edge of Destruction.txt'),\n",
       " PosixPath('concat_text/The Doctor Who Transcripts - The Invisible Enemy.txt'),\n",
       " PosixPath('concat_text/The Doctor Who Transcripts - The Web of Fear.txt'),\n",
       " PosixPath('concat_text/The Doctor Who Transcripts - The Rings of Akhaten.txt'),\n",
       " PosixPath('concat_text/The Doctor Who Transcripts - The Keeper of Traken.txt'),\n",
       " PosixPath('concat_text/The Doctor Who Transcripts - Time Flight.txt'),\n",
       " PosixPath('concat_text/The Doctor Who Transcripts - Attack of the Cybermen.txt'),\n",
       " PosixPath('concat_text/The Doctor Who Transcripts - The Five Doctors.txt'),\n",
       " PosixPath('concat_text/The Doctor Who Transcripts - Asylum of the Daleks.txt'),\n",
       " PosixPath('concat_text/The Doctor Who Transcripts - The Dalek Invasion of Earth.txt'),\n",
       " PosixPath('concat_text/The Doctor Who Transcripts - Daleks In Manhattan.txt'),\n",
       " PosixPath('concat_text/The Doctor Who Transcripts - Kerblam!.txt'),\n",
       " PosixPath('concat_text/The Doctor Who Transcripts - Rise of the Cybermen.txt'),\n",
       " PosixPath('concat_text/The Doctor Who Transcripts - The Abominable Snowmen.txt'),\n",
       " PosixPath('concat_text/The Doctor Who Transcripts - The Doctor Falls.txt'),\n",
       " PosixPath('concat_text/The Doctor Who Transcripts - The Time of the Doctor.txt'),\n",
       " PosixPath('concat_text/The Doctor Who Transcripts - Love and Monsters.txt'),\n",
       " PosixPath('concat_text/The Doctor Who Transcripts - Frontier in Space.txt'),\n",
       " PosixPath('concat_text/The Doctor Who Transcripts - Voyage of the Damned.txt'),\n",
       " PosixPath('concat_text/The Doctor Who Transcripts - The Infinite Quest.txt'),\n",
       " PosixPath('concat_text/The Doctor Who Transcripts - The Long Game.txt'),\n",
       " PosixPath('concat_text/The Doctor Who Transcripts - The Power of Three.txt'),\n",
       " PosixPath('concat_text/The Doctor Who Transcripts - Planet of the Dead.txt'),\n",
       " PosixPath('concat_text/The Doctor Who Transcripts - An Unearthly Child.txt'),\n",
       " PosixPath('concat_text/The Doctor Who Transcripts - The Romans.txt'),\n",
       " PosixPath('concat_text/The Doctor Who Transcripts - Closing Time.txt'),\n",
       " PosixPath(\"concat_text/Hornets' Nest - The Circus of Doom.txt\"),\n",
       " PosixPath('concat_text/The Doctor Who Transcripts - The Lie of the Land.txt'),\n",
       " PosixPath('concat_text/The Doctor Who Transcripts - The Gunfighters.txt'),\n",
       " PosixPath('concat_text/The Doctor Who Transcripts - The Shakespeare Code.txt'),\n",
       " PosixPath('concat_text/The Doctor Who Transcripts - The End of Time part 1.txt'),\n",
       " PosixPath('concat_text/The Doctor Who Transcripts - World Enough and Time.txt'),\n",
       " PosixPath('concat_text/The Doctor Who Transcripts - The Curse of Peladon.txt'),\n",
       " PosixPath('concat_text/The Doctor Who Transcripts - Bad Wolf.txt'),\n",
       " PosixPath('concat_text/The Doctor Who Transcripts - Marco Polo.txt'),\n",
       " PosixPath('concat_text/The Doctor Who Transcripts - The Daleks.txt'),\n",
       " PosixPath('concat_text/The Doctor Who Transcripts - The Mark of the Rani.txt'),\n",
       " PosixPath('concat_text/The Doctor Who Transcripts - Dreamland.txt'),\n",
       " PosixPath('concat_text/The Doctor Who Transcripts - Silence in the Library.txt'),\n",
       " PosixPath(\"concat_text/The Doctor Who Transcripts - Warriors' Gate.txt\"),\n",
       " PosixPath('concat_text/The Doctor Who Transcripts - Day of the Moon.txt'),\n",
       " PosixPath('concat_text/The Doctor Who Transcripts - Oxygen.txt'),\n",
       " PosixPath('concat_text/The Doctor Who Transcripts - Forest of the Dead.txt'),\n",
       " PosixPath('concat_text/The Doctor Who Transcripts - The Time Monster.txt'),\n",
       " PosixPath('concat_text/The Doctor Who Transcripts - The Wheel in Space.txt'),\n",
       " PosixPath('concat_text/The Doctor Who Transcripts - Cold Blood.txt'),\n",
       " PosixPath('concat_text/The Doctor Who Transcripts - The Crimson Horror.txt'),\n",
       " PosixPath('concat_text/The Doctor Who Transcripts - The Trial of a Time Lord -\\r\\nThe Ultimate Foe.txt'),\n",
       " PosixPath('concat_text/The Doctor Who Transcripts - Arachnids in the UK.txt'),\n",
       " PosixPath(\"concat_text/Hornets' Nest - The Dead Shoes.txt\"),\n",
       " PosixPath('concat_text/The Doctor Who Transcripts - Utopia.txt'),\n",
       " PosixPath('concat_text/A Shard of Ice.txt'),\n",
       " PosixPath(\"concat_text/The Doctor Who Transcripts - Father's Day.txt\"),\n",
       " PosixPath('concat_text/The Doctor Who Transcripts - The Pandorica Opens.txt'),\n",
       " PosixPath('concat_text/The Doctor Who Transcripts - The Sensorites.txt'),\n",
       " PosixPath('concat_text/The Doctor Who Transcripts - The Stones of Blood.txt'),\n",
       " PosixPath('concat_text/The Doctor Who Transcripts - Victory of the Daleks.txt'),\n",
       " PosixPath(\"concat_text/The Doctor Who Transcripts - The Dalek's Master Plan.txt\"),\n",
       " PosixPath('concat_text/The Doctor Who Transcripts - The Tsuranga Conundrum.txt'),\n",
       " PosixPath('concat_text/The Doctor Who Transcripts - The Power of Kroll.txt'),\n",
       " PosixPath('concat_text/The Doctor Who Transcripts - The End of Time, part two.txt'),\n",
       " PosixPath('concat_text/The Doctor Who Transcripts - The Myth Makers.txt'),\n",
       " PosixPath('concat_text/The Doctor Who Transcripts - Snakedance.txt'),\n",
       " PosixPath('concat_text/The Doctor Who Transcripts - Invasion of the Dinosaurs.txt'),\n",
       " PosixPath('concat_text/The Doctor Who Transcripts - The Dominators.txt'),\n",
       " PosixPath('concat_text/The Doctor Who Transcripts - The Poison Sky.txt'),\n",
       " PosixPath('concat_text/The Doctor Who Transcripts - Death to the Daleks.txt'),\n",
       " PosixPath('concat_text/The Doctor Who Transcripts - The Day of the Doctor.txt'),\n",
       " PosixPath('concat_text/The Doctor Who Transcripts - Doomsday.txt'),\n",
       " PosixPath('concat_text/The Doctor Who Transcripts - The Ghost Monument.txt'),\n",
       " PosixPath(\"concat_text/The Doctor Who Transcripts - The Doctor's Daughter.txt\"),\n",
       " PosixPath('concat_text/The Doctor Who Transcripts - The Happiness Patrol.txt'),\n",
       " PosixPath('concat_text/The Doctor Who Transcripts - Terminus.txt'),\n",
       " PosixPath('concat_text/The Doctor Who Transcripts - Evolution Of The Daleks.txt'),\n",
       " PosixPath('concat_text/The Doctor Who Transcripts - The Sontaran Experiment.txt'),\n",
       " PosixPath('concat_text/The Doctor Who Transcripts - The Three Doctors.txt'),\n",
       " PosixPath('concat_text/The Doctor Who Transcripts - Image of the Fendahl.txt'),\n",
       " PosixPath('concat_text/The Doctor Who Transcripts - Arc of Infinity.txt'),\n",
       " PosixPath('concat_text/The Doctor Who Transcripts - The Stolen Earth.txt'),\n",
       " PosixPath(\"concat_text/The Doctor Who Transcripts - The Massacre of St Bartholomew's Eve.txt\"),\n",
       " PosixPath(\"concat_text/Hornets' Nest - The Stuff of Nightmares.txt\"),\n",
       " PosixPath('concat_text/The Doctor Who Transcripts - The Pirate Planet.txt'),\n",
       " PosixPath('concat_text/The Doctor Who Transcripts - Planet of the Spiders.txt'),\n",
       " PosixPath('concat_text/The Doctor Who Transcripts - The Androids of Tara.txt'),\n",
       " PosixPath('concat_text/The Doctor Who Transcripts - The Name of the Doctor.txt'),\n",
       " PosixPath('concat_text/The Doctor Who Transcripts - The Impossible Planet.txt'),\n",
       " PosixPath('concat_text/The Doctor Who Transcripts - Human Nature.txt'),\n",
       " PosixPath('concat_text/The Doctor Who Transcripts - The Claws of Axos.txt'),\n",
       " PosixPath('concat_text/The Doctor Who Transcripts - The Great Detective.txt'),\n",
       " PosixPath('concat_text/The Doctor Who Transcripts - The Trial of a Time Lord - The Mysterious Planet.txt'),\n",
       " PosixPath(\"concat_text/Hornets' Nest - A Sting in the Tale.txt\"),\n",
       " PosixPath('concat_text/The Doctor Who Transcripts - Terror of the Autons.txt'),\n",
       " PosixPath('concat_text/The Doctor Who Transcripts - The Sea Devils.txt'),\n",
       " PosixPath('concat_text/The Doctor Who Transcripts - Kinda.txt'),\n",
       " PosixPath('concat_text/The Doctor Who Transcripts - The Caves of Androzani.txt'),\n",
       " PosixPath('concat_text/The Doctor Who Transcripts - Nightmare in Silver.txt'),\n",
       " PosixPath('concat_text/The Doctor Who Transcripts - Smith and Jones.txt'),\n",
       " PosixPath('concat_text/The Doctor Who Transcripts - The Battle of Ranskoor Av Kolos.txt'),\n",
       " PosixPath('concat_text/The Doctor Who Transcripts - Blink.txt'),\n",
       " PosixPath('concat_text/The Doctor Who Transcripts - The Doctor, the Widow, and\\r\\nthe Wardrobe.txt'),\n",
       " PosixPath('concat_text/The Doctor Who Transcripts - Ghost Light.txt'),\n",
       " PosixPath('concat_text/The Doctor Who Transcripts - The Ark in Space.txt'),\n",
       " PosixPath('concat_text/The Doctor Who Transcripts - The Movie.txt'),\n",
       " PosixPath('concat_text/The Doctor Who Transcripts - A Christmas Carol.txt'),\n",
       " PosixPath('concat_text/The Doctor Who Transcripts - The Leisure Hive.txt'),\n",
       " PosixPath('concat_text/The Doctor Who Transcripts - The Hungry Earth.txt'),\n",
       " PosixPath('concat_text/The Doctor Who Transcripts - The Aztecs.txt'),\n",
       " PosixPath(\"concat_text/The Doctor Who Transcripts - Let's Kill Hitler.txt\"),\n",
       " PosixPath('concat_text/The Doctor Who Transcripts - The Trial of a Time Lord - Mindwarp.txt'),\n",
       " PosixPath('concat_text/The Doctor Who Transcripts - Turn Left.txt'),\n",
       " PosixPath('concat_text/The Doctor Who Transcripts - Silver Nemesis.txt'),\n",
       " PosixPath('concat_text/The Doctor Who Transcripts - Meglos.txt'),\n",
       " PosixPath('concat_text/The Doctor Who Transcripts - The War Games.txt'),\n",
       " PosixPath('concat_text/The Doctor Who Transcripts - Four to Doomsday.txt'),\n",
       " PosixPath('concat_text/The Doctor Who Transcripts - The Bells of Saint John.txt'),\n",
       " PosixPath('concat_text/The Doctor Who Transcripts - The Greatest Show in the Galaxy.txt'),\n",
       " PosixPath('concat_text/The Doctor Who Transcripts - The Rescue.txt'),\n",
       " PosixPath('concat_text/The Doctor Who Transcripts - The Mind Robber.txt'),\n",
       " PosixPath('concat_text/The Doctor Who Transcripts - The Sun Makers.txt'),\n",
       " PosixPath('concat_text/The Doctor Who Transcripts - The Beast Below.txt'),\n",
       " PosixPath('concat_text/The Doctor Who Transcripts - New Earth.txt'),\n",
       " PosixPath('concat_text/The Doctor Who Transcripts - The Doctor Dances.txt'),\n",
       " PosixPath('concat_text/The Doctor Who Transcripts - Delta and the Bannermen.txt'),\n",
       " PosixPath('concat_text/The Doctor Who Transcripts - The Fires of Pompeii.txt'),\n",
       " PosixPath(\"concat_text/Hornets' Nest - The Hive of Horror.txt\"),\n",
       " PosixPath('concat_text/The Doctor Who Transcripts - The Parting of the Ways.txt'),\n",
       " PosixPath('concat_text/The Doctor Who Transcripts - Revelation of the Daleks.txt'),\n",
       " PosixPath('concat_text/The Doctor Who Transcripts - 42.txt'),\n",
       " PosixPath('concat_text/The Doctor Who Transcripts - The Witchfinders.txt'),\n",
       " PosixPath('concat_text/The Doctor Who Transcripts - The Power of the Daleks.txt'),\n",
       " PosixPath('concat_text/The Doctor Who Transcripts - Midnight.txt'),\n",
       " PosixPath('concat_text/The Doctor Who Transcripts - The Underwater Menace.txt'),\n",
       " PosixPath('concat_text/The Doctor Who Transcripts - Planet of the Daleks.txt'),\n",
       " PosixPath('concat_text/The Doctor Who Transcripts - The Talons of Weng-Chiang.txt'),\n",
       " PosixPath('concat_text/The Doctor Who Transcripts - Planet of Giants.txt'),\n",
       " PosixPath('concat_text/The Doctor Who Transcripts - The Unicorn and The Wasp.txt'),\n",
       " PosixPath('concat_text/The Doctor Who Transcripts - Knock Knock.txt'),\n",
       " PosixPath('concat_text/The Doctor Who Transcripts - Warriors of the Deep.txt'),\n",
       " PosixPath('concat_text/The Doctor Who Transcripts - The Savages.txt'),\n",
       " PosixPath('concat_text/The Doctor Who Transcripts - Earthshock.txt'),\n",
       " PosixPath('concat_text/The Doctor Who Transcripts - The Lazarus Experiment.txt'),\n",
       " PosixPath('concat_text/The Doctor Who Transcripts - Dalek.txt'),\n",
       " PosixPath('concat_text/The Doctor Who Transcripts - Gridlock.txt'),\n",
       " PosixPath('concat_text/The Doctor Who Transcripts - Robot.txt'),\n",
       " PosixPath('concat_text/The Doctor Who Transcripts - Family of Blood.txt'),\n",
       " PosixPath('concat_text/The Doctor Who Transcripts - The Highlanders.txt'),\n",
       " PosixPath('concat_text/The Doctor Who Transcripts - Planet of Evil.txt'),\n",
       " PosixPath('concat_text/The Doctor Who Transcripts - The Time of Angels.txt'),\n",
       " PosixPath(\"concat_text/The Doctor Who Transcripts - Journey's End.txt\"),\n",
       " PosixPath('concat_text/The Doctor Who Transcripts - Partners in Crime.txt'),\n",
       " PosixPath('concat_text/The Doctor Who Transcripts - Demons of the Punjab.txt'),\n",
       " PosixPath('concat_text/The Doctor Who Transcripts - The Seeds of Death.txt'),\n",
       " PosixPath('concat_text/The Doctor Who Transcripts - Listen.txt'),\n",
       " PosixPath('concat_text/The Doctor Who Transcripts - Dragonfire.txt'),\n",
       " PosixPath('concat_text/The Doctor Who Transcripts - Nightmare of Eden.txt'),\n",
       " PosixPath('concat_text/The Doctor Who Transcripts - Paradise Towers.txt'),\n",
       " PosixPath('concat_text/The Doctor Who Transcripts - The Invasion.txt'),\n",
       " PosixPath('concat_text/The Doctor Who Transcripts - The Ribos Operation.txt'),\n",
       " PosixPath('concat_text/The Doctor Who Transcripts - Time Crash.txt'),\n",
       " PosixPath('concat_text/The Doctor Who Transcripts - Remembrance of the Daleks.txt'),\n",
       " PosixPath('concat_text/The Doctor Who Transcripts - Flesh and Stone.txt'),\n",
       " PosixPath('concat_text/The Doctor Who Transcripts - The Empty Child.txt'),\n",
       " PosixPath('concat_text/The Doctor Who Transcripts - Destiny of the Daleks.txt'),\n",
       " PosixPath(\"concat_text/The Doctor Who Transcripts - The King's Demons.txt\"),\n",
       " PosixPath('concat_text/The Doctor Who Transcripts - A Town Called Mercy.txt'),\n",
       " PosixPath('concat_text/The Doctor Who Transcripts - The Space Pirates.txt'),\n",
       " PosixPath('concat_text/The Doctor Who Transcripts - The Snowmen.txt'),\n",
       " PosixPath('concat_text/The Doctor Who Transcripts - The Night of the Doctor.txt'),\n",
       " PosixPath('concat_text/The Doctor Who Transcripts - Castrovalva.txt'),\n",
       " PosixPath('concat_text/The Doctor Who Transcripts - The God Complex.txt'),\n",
       " PosixPath('concat_text/The Doctor Who Transcripts - Into the Dalek.txt'),\n",
       " PosixPath('concat_text/The Doctor Who Transcripts - The Seeds of Doom.txt'),\n",
       " PosixPath('concat_text/The Doctor Who Transcripts - The Age of Steel.txt'),\n",
       " PosixPath('concat_text/The Doctor Who Transcripts - Vastra Investigates.txt'),\n",
       " PosixPath('concat_text/The Doctor Who Transcripts - The Satan Pit.txt'),\n",
       " PosixPath('concat_text/The Doctor Who Transcripts - The Chase.txt'),\n",
       " PosixPath('concat_text/The Doctor Who Transcripts - Twice Upon A Time.txt'),\n",
       " PosixPath('concat_text/Death Comes To Time.txt'),\n",
       " PosixPath('concat_text/The Doctor Who Transcripts - Planet of the Ood.txt'),\n",
       " PosixPath('concat_text/The Doctor Who Transcripts - The Green Death.txt'),\n",
       " PosixPath('concat_text/The Doctor Who Transcripts - Empress of Mars.txt'),\n",
       " PosixPath('concat_text/The Doctor Who Transcripts - Mission to the Unknown.txt'),\n",
       " PosixPath('concat_text/The Doctor Who Transcripts - Rose.txt'),\n",
       " PosixPath('concat_text/The Doctor Who Transcripts - The Trial of a Time Lord - Terror of the Vervoids.txt'),\n",
       " PosixPath(\"concat_text/The Doctor Who Transcripts - Amy's Choice.txt\"),\n",
       " PosixPath('concat_text/The Doctor Who Transcripts - The Web Planet.txt'),\n",
       " PosixPath('concat_text/The Doctor Who Transcripts - The Faceless Ones.txt'),\n",
       " PosixPath('concat_text/The Doctor Who Transcripts - Horror of Fang Rock.txt'),\n",
       " PosixPath('concat_text/The Doctor Who Transcripts - The Pilot.txt'),\n",
       " PosixPath('concat_text/The Doctor Who Transcripts - The Unquiet Dead.txt'),\n",
       " PosixPath('concat_text/The Doctor Who Transcripts - The Lodger.txt'),\n",
       " PosixPath('concat_text/The Doctor Who Transcripts - Timelash.txt'),\n",
       " PosixPath('concat_text/The Doctor Who Transcripts - The Moonbase.txt'),\n",
       " PosixPath('concat_text/The Doctor Who Transcripts - The Visitation.txt'),\n",
       " PosixPath('concat_text/The Doctor Who Transcripts - The Waters of Mars.txt'),\n",
       " PosixPath('concat_text/The Doctor Who Transcripts - Survival.txt'),\n",
       " PosixPath('concat_text/The Doctor Who Transcripts - The Girl Who Waited.txt'),\n",
       " PosixPath('concat_text/The Doctor Who Transcripts - Carnival of Monsters.txt'),\n",
       " PosixPath('concat_text/The Doctor Who Transcripts - The Curse of Fenric.txt'),\n",
       " PosixPath('concat_text/The Doctor Who Transcripts - The Return of Doctor Mysterio.txt'),\n",
       " PosixPath('concat_text/The Doctor Who Transcripts - The Mutants.txt'),\n",
       " PosixPath('concat_text/The Doctor Who Transcripts - A Good Man Goes To War.txt'),\n",
       " PosixPath('concat_text/The Doctor Who Transcripts - The Time Warrior.txt'),\n",
       " PosixPath('concat_text/The Doctor Who Transcripts - The Angels Take Manhattan.txt'),\n",
       " PosixPath('concat_text/The Doctor Who Transcripts - Tooth and Claw.txt'),\n",
       " PosixPath('concat_text/The Doctor Who Transcripts - The Sound of Drums.txt'),\n",
       " PosixPath('concat_text/The Doctor Who Transcripts - The Time Meddler.txt'),\n",
       " PosixPath('concat_text/The Doctor Who Transcripts - State of Decay.txt'),\n",
       " PosixPath('concat_text/The Doctor Who Transcripts - The Horns of Nimon.txt'),\n",
       " PosixPath('concat_text/The Doctor Who Transcripts - Thin Ice.txt'),\n",
       " PosixPath('concat_text/The Doctor Who Transcripts - The Twin Dilemma.txt'),\n",
       " PosixPath('concat_text/The Doctor Who Transcripts - Mawdryn Undead.txt'),\n",
       " PosixPath('concat_text/The Doctor Who Transcripts - The Monster of Peladon.txt'),\n",
       " PosixPath('concat_text/The Doctor Who Transcripts - The Pyramid at the End of the World.txt'),\n",
       " PosixPath('concat_text/The Doctor Who Transcripts - The Brain of Morbius.txt'),\n",
       " PosixPath('concat_text/The Doctor Who Transcripts - The Big Bang.txt'),\n",
       " PosixPath('concat_text/The Doctor Who Transcripts - Revenge of the Cybermen.txt'),\n",
       " PosixPath('concat_text/The Doctor Who Transcripts - Pyramids of Mars.txt'),\n",
       " PosixPath('concat_text/The Doctor Who Transcripts - Pond Life.txt'),\n",
       " PosixPath('concat_text/The Doctor Who Transcripts - The Eleventh Hour.txt'),\n",
       " PosixPath('concat_text/The Doctor Who Transcripts - Rosa.txt'),\n",
       " PosixPath('concat_text/The Doctor Who Transcripts - City of Death.txt'),\n",
       " PosixPath('concat_text/The Doctor Who Transcripts - The Runaway Bride.txt'),\n",
       " PosixPath('concat_text/The Doctor Who Transcripts - The Wedding of River Song.txt'),\n",
       " PosixPath('concat_text/The Doctor Who Transcripts - Full Circle.txt'),\n",
       " PosixPath('concat_text/The Doctor Who Transcripts - Smile.txt'),\n",
       " PosixPath('concat_text/The Doctor Who Transcripts - The Hand of Fear.txt'),\n",
       " PosixPath('concat_text/The Doctor Who Transcripts - Dinosaurs on a Spaceship.txt'),\n",
       " PosixPath('concat_text/The Doctor Who Transcripts - The Next Doctor.txt'),\n",
       " PosixPath('concat_text/The Doctor Who Transcripts - Born Again.txt'),\n",
       " PosixPath('concat_text/The Doctor Who Transcripts - Frontios.txt'),\n",
       " PosixPath('concat_text/The Doctor Who Transcripts - Reign of Terror.txt'),\n",
       " PosixPath('concat_text/The Doctor Who Transcripts - Fear Her.txt'),\n",
       " PosixPath('concat_text/The Doctor Who Transcripts - The Space Museum.txt'),\n",
       " PosixPath('concat_text/The Doctor Who Transcripts - The Vampires of Venice.txt'),\n",
       " PosixPath('concat_text/The Doctor Who Transcripts - The Rebel Flesh.txt'),\n",
       " PosixPath('concat_text/The Doctor Who Transcripts - The Eaters of Light.txt'),\n",
       " PosixPath('concat_text/The Doctor Who Transcripts - Spearhead from Space.txt'),\n",
       " PosixPath('concat_text/The Doctor Who Transcripts - Boom Town.txt')]"
      ]
     },
     "execution_count": 2,
     "metadata": {},
     "output_type": "execute_result"
    }
   ],
   "source": [
    "p = Path('concat_text')\n",
    "file_list = list(p.glob('*.txt'))\n",
    "file_list"
   ]
  },
  {
   "cell_type": "code",
   "execution_count": 3,
   "metadata": {},
   "outputs": [
    {
     "name": "stderr",
     "output_type": "stream",
     "text": [
      "100%|██████████| 301/301 [00:00<00:00, 425.31it/s]\n"
     ]
    }
   ],
   "source": [
    "sentences = []\n",
    "is_saying = False\n",
    "for path in tqdm(file_list):\n",
    "    with open(path,'r',encoding='utf-8') as f:\n",
    "        for line in f:\n",
    "            line = line.strip()\n",
    "            # 如果到了文本最后，就可以直接翻篇了\n",
    "            if line[:2] == '[<' or line == '---':\n",
    "                break\n",
    "            # 这些不属于对白，可以直接跳过\n",
    "            if line[:3] == '**[' or line[0] == '(':\n",
    "                continue\n",
    "                \n",
    "            who_said = line.split(':')\n",
    "            if len(who_said) > 1 and who_said[0][:3].isupper():\n",
    "                is_saying = True\n",
    "                sentences.append(who_said[1])\n",
    "            elif is_saying:\n",
    "                sentences.append(line)"
   ]
  },
  {
   "cell_type": "code",
   "execution_count": 4,
   "metadata": {},
   "outputs": [
    {
     "data": {
      "text/plain": [
       "239851"
      ]
     },
     "execution_count": 4,
     "metadata": {},
     "output_type": "execute_result"
    }
   ],
   "source": [
    "len(sentences)"
   ]
  },
  {
   "cell_type": "code",
   "execution_count": 5,
   "metadata": {},
   "outputs": [
    {
     "data": {
      "text/plain": [
       "[' Strax. Strax. Strax. Strax.',\n",
       " ' Warning. Evacuating.',\n",
       " ' Leave me.',\n",
       " ' Warning. Evacuating.',\n",
       " ' Go on. You must leave me here to die.',\n",
       " \" You're not dying, Strax.\",\n",
       " \" It's fine. Don't worry. It's a glorious thing for a Sontaran to die in battle.\",\n",
       " \" The battle was two days ago. You've made a full recovery.\",\n",
       " \" No, I haven't.\",\n",
       " \" We've healed your wounds. You're completely fine.\"]"
      ]
     },
     "execution_count": 5,
     "metadata": {},
     "output_type": "execute_result"
    }
   ],
   "source": [
    "sentences[:10]"
   ]
  },
  {
   "cell_type": "code",
   "execution_count": 6,
   "metadata": {},
   "outputs": [],
   "source": [
    "from nltk.tokenize import sent_tokenize\n",
    "def sentence_token_nltk(str):\n",
    "    sent_tokenize_list = sent_tokenize(str)\n",
    "    return sent_tokenize_list"
   ]
  },
  {
   "cell_type": "code",
   "execution_count": 7,
   "metadata": {},
   "outputs": [
    {
     "name": "stderr",
     "output_type": "stream",
     "text": [
      "100%|██████████| 239851/239851 [00:14<00:00, 16712.01it/s]\n"
     ]
    }
   ],
   "source": [
    "new = []\n",
    "for s in tqdm(sentences):\n",
    "    new.extend(sentence_token_nltk(s))"
   ]
  },
  {
   "cell_type": "code",
   "execution_count": 8,
   "metadata": {},
   "outputs": [],
   "source": [
    "import nltk"
   ]
  },
  {
   "cell_type": "code",
   "execution_count": 9,
   "metadata": {},
   "outputs": [
    {
     "name": "stderr",
     "output_type": "stream",
     "text": [
      "[nltk_data] Downloading package punkt to /Users/fangwenda/nltk_data...\n",
      "[nltk_data]   Package punkt is already up-to-date!\n"
     ]
    },
    {
     "data": {
      "text/plain": [
       "True"
      ]
     },
     "execution_count": 9,
     "metadata": {},
     "output_type": "execute_result"
    }
   ],
   "source": [
    "nltk.download('punkt')"
   ]
  },
  {
   "cell_type": "code",
   "execution_count": 10,
   "metadata": {},
   "outputs": [
    {
     "data": {
      "text/plain": [
       "410115"
      ]
     },
     "execution_count": 10,
     "metadata": {},
     "output_type": "execute_result"
    }
   ],
   "source": [
    "len(new)"
   ]
  },
  {
   "cell_type": "code",
   "execution_count": 11,
   "metadata": {},
   "outputs": [],
   "source": [
    "length = list(map(lambda x:len(x.split(' ')),new))"
   ]
  },
  {
   "cell_type": "code",
   "execution_count": 12,
   "metadata": {},
   "outputs": [],
   "source": [
    "data = pd.Series(length)"
   ]
  },
  {
   "cell_type": "code",
   "execution_count": 14,
   "metadata": {},
   "outputs": [
    {
     "data": {
      "text/plain": [
       "<matplotlib.axes._subplots.AxesSubplot at 0x10d56d710>"
      ]
     },
     "execution_count": 14,
     "metadata": {},
     "output_type": "execute_result"
    },
    {
     "data": {
      "image/png": "[encoded data removed]",
      "text/plain": [
       "<Figure size 432x288 with 1 Axes>"
      ]
     },
     "metadata": {
      "needs_background": "light"
     },
     "output_type": "display_data"
    }
   ],
   "source": [
    "data.plot(kind='hist')"
   ]
  },
  {
   "cell_type": "code",
   "execution_count": 21,
   "metadata": {},
   "outputs": [
    {
     "name": "stderr",
     "output_type": "stream",
     "text": [
      "100%|██████████| 301/301 [00:00<00:00, 603.81it/s]\n"
     ]
    }
   ],
   "source": [
    "# 找出doctor说过的话\n",
    "doctors = []\n",
    "doctor_saying = False\n",
    "for path in tqdm(file_list):\n",
    "    with open(path,'r',encoding='utf-8') as f:\n",
    "        for line in f:\n",
    "            line = line.strip()\n",
    "            # 如果到了文本最后，就可以直接翻篇了\n",
    "            if line[:2] == '[<' or line == '---':\n",
    "                break\n",
    "            # 这些不属于对白，可以直接跳过\n",
    "            if line[:3] == '**[' or line[0] == '(':\n",
    "                continue\n",
    "                \n",
    "            who_said = line.split(':')\n",
    "            if len(who_said) > 1:\n",
    "                if who_said[0] == 'DOCTOR':\n",
    "                    doctor_saying = True\n",
    "                    doctors.append(who_said[1].strip())\n",
    "                else:\n",
    "                    doctor_saying = False           \n",
    "            elif doctor_saying:\n",
    "                doctors.append(line)"
   ]
  },
  {
   "cell_type": "code",
   "execution_count": 23,
   "metadata": {},
   "outputs": [
    {
     "data": {
      "text/plain": [
       "57469"
      ]
     },
     "execution_count": 23,
     "metadata": {},
     "output_type": "execute_result"
    }
   ],
   "source": [
    "len(doctors)"
   ]
  },
  {
   "cell_type": "code",
   "execution_count": 24,
   "metadata": {},
   "outputs": [
    {
     "name": "stderr",
     "output_type": "stream",
     "text": [
      "100%|██████████| 57469/57469 [00:04<00:00, 14172.36it/s]\n"
     ]
    }
   ],
   "source": [
    "dw_s = []\n",
    "for s in tqdm(doctors):\n",
    "    dw_s.extend(sentence_token_nltk(s))"
   ]
  },
  {
   "cell_type": "code",
   "execution_count": 25,
   "metadata": {},
   "outputs": [
    {
     "data": {
      "text/plain": [
       "108646"
      ]
     },
     "execution_count": 25,
     "metadata": {},
     "output_type": "execute_result"
    }
   ],
   "source": [
    "len(dw_s)"
   ]
  },
  {
   "cell_type": "code",
   "execution_count": 27,
   "metadata": {},
   "outputs": [
    {
     "data": {
      "text/plain": [
       "['The Tardis, where else?',\n",
       " \"I'll give you a guided tour someday.\",\n",
       " 'Boot cupboard.',\n",
       " 'Not very interesting.',\n",
       " \"Oh, I've seen bigger boot cupboards.\",\n",
       " \"Well, how big's big?\",\n",
       " 'Relative dimensions, you see.',\n",
       " 'No constant.',\n",
       " 'How big are you at the moment?',\n",
       " 'Listen, listen.',\n",
       " 'There are no measurements in infinity.',\n",
       " 'You humans have got such limited little minds.',\n",
       " \"I don't know why I like you so much.\",\n",
       " \"That's true, that's very true.\",\n",
       " 'What?',\n",
       " 'Yes, yes, it is good.',\n",
       " 'Do you know, this is the second control room.',\n",
       " 'You know, I could run the Tardis just as easily from here as I could from the old one.',\n",
       " 'Come to think of it, this was the old one.',\n",
       " 'Yes, it is.']"
      ]
     },
     "execution_count": 27,
     "metadata": {},
     "output_type": "execute_result"
    }
   ],
   "source": [
    "dw_s[:20]"
   ]
  },
  {
   "cell_type": "code",
   "execution_count": null,
   "metadata": {},
   "outputs": [],
   "source": [
    "# 格式化剧本\n",
    "\"\"\"\n",
    "**[Area 29]** 表示地点信息 需要保留\n",
    "(The Doctor leaves. Korwin's hands twitch.) 表示动作信息，忽略\n",
    "FRANCINE [OC] 在可视画面范围外发生的动作或对白，对于训练用处不大，忽略掉[OC]\n",
    "人物基本信息\n",
    "\"\"\""
   ]
  }
 ],
 "metadata": {
  "kernelspec": {
   "display_name": "Python 3",
   "language": "python",
   "name": "python3"
  },
  "language_info": {
   "codemirror_mode": {
    "name": "ipython",
    "version": 3
   },
   "file_extension": ".py",
   "mimetype": "text/x-python",
   "name": "python",
   "nbconvert_exporter": "python",
   "pygments_lexer": "ipython3",
   "version": "3.7.3"
  }
 },
 "nbformat": 4,
 "nbformat_minor": 2
}
